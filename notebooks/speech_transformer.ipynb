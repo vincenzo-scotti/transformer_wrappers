{
 "cells": [
  {
   "cell_type": "markdown",
   "source": [
    "# Speech transformer "
   ],
   "metadata": {
    "collapsed": false
   },
   "id": "42dd89abb631d1e2"
  },
  {
   "cell_type": "markdown",
   "source": [
    "## Environment"
   ],
   "metadata": {
    "collapsed": false
   },
   "id": "7b7de2f2910c7a77"
  },
  {
   "cell_type": "markdown",
   "source": [
    "### Imports"
   ],
   "metadata": {
    "collapsed": false
   },
   "id": "36658f319f21ed06"
  },
  {
   "cell_type": "code",
   "outputs": [],
   "source": [
    "# import sys\n",
    "# sys.path.append('~/Projects/transformer_wrappers/src')"
   ],
   "metadata": {
    "collapsed": false,
    "ExecuteTime": {
     "end_time": "2024-10-17T08:53:40.194847Z",
     "start_time": "2024-10-17T08:53:40.192509Z"
    }
   },
   "id": "3ce5db8a5a94b70f",
   "execution_count": 1
  },
  {
   "cell_type": "code",
   "outputs": [],
   "source": [
    "import os"
   ],
   "metadata": {
    "collapsed": false,
    "ExecuteTime": {
     "end_time": "2024-10-24T12:01:35.142328Z",
     "start_time": "2024-10-24T12:01:35.137223Z"
    }
   },
   "id": "7d60c7fef36e92da",
   "execution_count": 1
  },
  {
   "cell_type": "code",
   "outputs": [],
   "source": [
    "import torch"
   ],
   "metadata": {
    "collapsed": false,
    "ExecuteTime": {
     "end_time": "2024-10-17T08:53:40.828699Z",
     "start_time": "2024-10-17T08:53:40.257076Z"
    }
   },
   "id": "dad5c72c42686d67",
   "execution_count": 2
  },
  {
   "cell_type": "code",
   "outputs": [
    {
     "name": "stderr",
     "output_type": "stream",
     "text": [
      "/home/vincenzoscotti/anaconda3/envs/trwrap/lib/python3.12/site-packages/tqdm/auto.py:21: TqdmWarning: IProgress not found. Please update jupyter and ipywidgets. See https://ipywidgets.readthedocs.io/en/stable/user_install.html\n",
      "  from .autonotebook import tqdm as notebook_tqdm\n"
     ]
    }
   ],
   "source": [
    "from transformers import BitsAndBytesConfig\n",
    "from peft import LoraConfig"
   ],
   "metadata": {
    "collapsed": false,
    "ExecuteTime": {
     "end_time": "2024-10-17T08:53:41.327163Z",
     "start_time": "2024-10-17T08:53:40.829435Z"
    }
   },
   "id": "1da0d0b936e4c968",
   "execution_count": 3
  },
  {
   "cell_type": "code",
   "outputs": [
    {
     "name": "stderr",
     "output_type": "stream",
     "text": [
      "/home/vincenzoscotti/anaconda3/envs/trwrap/lib/python3.12/site-packages/tqdm/auto.py:21: TqdmWarning: IProgress not found. Please update jupyter and ipywidgets. See https://ipywidgets.readthedocs.io/en/stable/user_install.html\n",
      "  from .autonotebook import tqdm as notebook_tqdm\n"
     ]
    }
   ],
   "source": [
    "from transformer_wrappers.data import MozillaCommonVoice, ProcessedMozillaCommonVoice"
   ],
   "metadata": {
    "collapsed": false,
    "ExecuteTime": {
     "end_time": "2024-10-24T12:01:38.266747Z",
     "start_time": "2024-10-24T12:01:37.136901Z"
    }
   },
   "id": "d5e6479340da0bd",
   "execution_count": 2
  },
  {
   "cell_type": "code",
   "outputs": [],
   "source": [
    "from transformer_wrappers.wrappers import SpeechCausalLMWrapper"
   ],
   "metadata": {
    "collapsed": false,
    "ExecuteTime": {
     "end_time": "2024-10-17T08:53:41.847568Z",
     "start_time": "2024-10-17T08:53:41.327647Z"
    }
   },
   "id": "2baf878f3b022d7a",
   "execution_count": 4
  },
  {
   "cell_type": "markdown",
   "source": [
    "### Constants and globals"
   ],
   "metadata": {
    "collapsed": false
   },
   "id": "67faf2489a3d75be"
  },
  {
   "cell_type": "code",
   "outputs": [],
   "source": [
    "TOKEN = None  # HF Token"
   ],
   "metadata": {
    "collapsed": false,
    "ExecuteTime": {
     "end_time": "2024-10-17T08:53:41.849941Z",
     "start_time": "2024-10-17T08:53:41.848241Z"
    }
   },
   "id": "f69813390cefb01",
   "execution_count": 5
  },
  {
   "cell_type": "code",
   "outputs": [],
   "source": [
    "MCV_IT_PATH = os.path.join(os.environ['HOME'], 'Data/mozilla_common_voice/cv-corpus-19.0-2024-09-13/')"
   ],
   "metadata": {
    "collapsed": false,
    "ExecuteTime": {
     "end_time": "2024-10-24T12:01:42.459759Z",
     "start_time": "2024-10-24T12:01:42.453650Z"
    }
   },
   "id": "b8b2a380f241d766",
   "execution_count": 3
  },
  {
   "cell_type": "code",
   "outputs": [],
   "source": [
    "LANG = 'it'"
   ],
   "metadata": {
    "collapsed": false,
    "ExecuteTime": {
     "end_time": "2024-10-24T12:01:43.873691Z",
     "start_time": "2024-10-24T12:01:43.867958Z"
    }
   },
   "id": "ad0bc012c41dcb2e",
   "execution_count": 4
  },
  {
   "cell_type": "code",
   "outputs": [],
   "source": [
    "AUDIO_TOKEN = '<|audio|>'"
   ],
   "metadata": {
    "collapsed": false
   },
   "id": "a1e00268af820f16"
  },
  {
   "cell_type": "code",
   "outputs": [],
   "source": [
    "MODEL = 'gpt2'  \n",
    "# MODEL = 'mistralai/Mistral-7B-Instruct-v0.3'  \n",
    "# MODEL = 'meta-llama/Llama-3.1-8B-Instruct'\n",
    "# MODEL = 'google/gemma-2-9b-it'\n",
    "MODEL_CONFIGS = {\n",
    "    'torch_dtype': torch.bfloat16,\n",
    "    'device_map': 'cpu',  # torch.device('cuda' if torch.cuda.is_available() else 'cpu'),\n",
    "    'token': TOKEN\n",
    "}\n",
    "TOKENIZER_CONFIGS = {'token': TOKEN, 'pad_token': '<|endoftext|>', 'additional_special_tokens': [AUDIO_TOKEN]}"
   ],
   "metadata": {
    "collapsed": false,
    "ExecuteTime": {
     "end_time": "2024-10-17T08:53:41.852353Z",
     "start_time": "2024-10-17T08:53:41.850379Z"
    }
   },
   "id": "23bd06e783d5cb",
   "execution_count": 6
  },
  {
   "cell_type": "code",
   "outputs": [],
   "source": [
    "QUANTIZATION_CONFIGS = BitsAndBytesConfig(\n",
    "    load_in_4bit=True, \n",
    "    bnb_4bit_use_double_quant=True, \n",
    "    bnb_4bit_quant_type='nf4', \n",
    "    bnb_4bit_compute_dtype=torch.bfloat16\n",
    ")"
   ],
   "metadata": {
    "collapsed": false,
    "ExecuteTime": {
     "end_time": "2024-10-17T08:53:41.855343Z",
     "start_time": "2024-10-17T08:53:41.852710Z"
    }
   },
   "id": "b0632824bc83333b",
   "execution_count": 7
  },
  {
   "cell_type": "code",
   "outputs": [],
   "source": [
    "LORA_CONFIGS = LoraConfig(\n",
    "    target_modules='all-linear',\n",
    "    lora_alpha=16,\n",
    "    lora_dropout=0.1,\n",
    "    r=16,\n",
    "    bias='none',\n",
    "    task_type='CAUSAL_LM'\n",
    ")"
   ],
   "metadata": {
    "collapsed": false,
    "ExecuteTime": {
     "end_time": "2024-10-17T08:53:41.857080Z",
     "start_time": "2024-10-17T08:53:41.855723Z"
    }
   },
   "id": "6dbebabb7e185b67",
   "execution_count": 8
  },
  {
   "cell_type": "code",
   "outputs": [
    {
     "name": "stderr",
     "output_type": "stream",
     "text": [
      "/home/vincenzoscotti/anaconda3/envs/trwrap/lib/python3.12/site-packages/peft/tuners/lora/layer.py:861: UserWarning: fan_in_fan_out is set to False but the target module is `Conv1D`. Setting fan_in_fan_out to True.\n",
      "  warnings.warn(\n",
      "/home/vincenzoscotti/anaconda3/envs/trwrap/lib/python3.12/site-packages/transformers/tokenization_utils_base.py:1601: FutureWarning: `clean_up_tokenization_spaces` was not set. It will be set to `True` by default. This behavior will be depracted in transformers v4.45, and will be then set to `False` by default. For more details check this issue: https://github.com/huggingface/transformers/issues/31884\n",
      "  warnings.warn(\n"
     ]
    }
   ],
   "source": [
    "model = SpeechCausalLMWrapper.from_pretrained(\n",
    "    MODEL,\n",
    "    model_kwargs=MODEL_CONFIGS,\n",
    "    # quantization_configs=QUANTIZATION_CONFIGS,\n",
    "    lora_configs=LORA_CONFIGS,\n",
    "    tokenizer_kwargs=TOKENIZER_CONFIGS\n",
    ")"
   ],
   "metadata": {
    "collapsed": false,
    "ExecuteTime": {
     "end_time": "2024-10-17T08:53:42.827645Z",
     "start_time": "2024-10-17T08:53:41.857586Z"
    }
   },
   "id": "3e6f4622200bc799",
   "execution_count": 9
  },
  {
   "cell_type": "markdown",
   "source": [
    "### Helper functions"
   ],
   "metadata": {
    "collapsed": false
   },
   "id": "ad9b56abef0327b"
  },
  {
   "cell_type": "code",
   "outputs": [
    {
     "data": {
      "text/plain": "Ellipsis"
     },
     "execution_count": 10,
     "metadata": {},
     "output_type": "execute_result"
    }
   ],
   "source": [
    "..."
   ],
   "metadata": {
    "collapsed": false,
    "ExecuteTime": {
     "end_time": "2024-10-17T08:53:42.831481Z",
     "start_time": "2024-10-17T08:53:42.828255Z"
    }
   },
   "id": "8f16202dca51ec68",
   "execution_count": 10
  },
  {
   "cell_type": "markdown",
   "source": [
    "## Data"
   ],
   "metadata": {
    "collapsed": false
   },
   "id": "97f918b01e57fc80"
  },
  {
   "cell_type": "markdown",
   "source": [
    "### Dummy data"
   ],
   "metadata": {
    "collapsed": false
   },
   "id": "ffb60ee6c7aa1108"
  },
  {
   "cell_type": "code",
   "outputs": [],
   "source": [
    "text = f'Transcribe the following audio clip:\\n{model.audio_token}\\n\\nTranscription:\\n\"In a hole in the ground there lived a hobbit.\"'"
   ],
   "metadata": {
    "collapsed": false,
    "ExecuteTime": {
     "end_time": "2024-10-17T08:53:42.834478Z",
     "start_time": "2024-10-17T08:53:42.832538Z"
    }
   },
   "id": "caf8525c5ed62f05",
   "execution_count": 11
  },
  {
   "cell_type": "code",
   "outputs": [],
   "source": [
    "audio_file_path = '../audio.wav'"
   ],
   "metadata": {
    "collapsed": false,
    "ExecuteTime": {
     "end_time": "2024-10-17T08:53:42.836315Z",
     "start_time": "2024-10-17T08:53:42.835137Z"
    }
   },
   "id": "bd2427db585594c9",
   "execution_count": 12
  },
  {
   "cell_type": "code",
   "outputs": [],
   "source": [
    "input_encoding = model.prepare_input(text, audio_file_path)"
   ],
   "metadata": {
    "collapsed": false,
    "ExecuteTime": {
     "end_time": "2024-10-17T08:53:43.227734Z",
     "start_time": "2024-10-17T08:53:42.836602Z"
    }
   },
   "id": "17955e75a9bd184",
   "execution_count": 13
  },
  {
   "cell_type": "markdown",
   "source": [
    "### Mozilla Common Voice"
   ],
   "metadata": {
    "collapsed": false
   },
   "id": "dd7dad6bcf486852"
  },
  {
   "cell_type": "code",
   "outputs": [],
   "source": [
    "mcv = MozillaCommonVoice(MCV_IT_PATH, 'validation', language=LANG)"
   ],
   "metadata": {
    "collapsed": false,
    "ExecuteTime": {
     "end_time": "2024-10-24T12:13:15.977336Z",
     "start_time": "2024-10-24T12:13:15.931672Z"
    }
   },
   "id": "72baf5900fcb5321",
   "execution_count": 5
  },
  {
   "cell_type": "code",
   "outputs": [],
   "source": [
    "pmcv = ProcessedMozillaCommonVoice(\n",
    "    model.tokenizer, \n",
    "    AUDIO_TOKEN,\n",
    "    MCV_IT_PATH, \n",
    "    'validation', \n",
    "    language=LANG, \n",
    "    max_samples_per_task=4, \n",
    "    random_seed=2307\n",
    ")"
   ],
   "metadata": {
    "collapsed": false
   },
   "id": "1608343569119d0f"
  },
  {
   "cell_type": "markdown",
   "source": [
    "## Forward\n",
    "\n",
    "In this first example we show how to forward an input composed of text and audio to the model"
   ],
   "metadata": {
    "collapsed": false
   },
   "id": "b7dcbd053f3daf29"
  },
  {
   "cell_type": "code",
   "outputs": [
    {
     "data": {
      "text/plain": "torch.Size([1, 128, 570])"
     },
     "execution_count": 14,
     "metadata": {},
     "output_type": "execute_result"
    }
   ],
   "source": [
    "input_encoding['input_spectrograms'].size()"
   ],
   "metadata": {
    "collapsed": false,
    "ExecuteTime": {
     "end_time": "2024-10-17T08:53:43.232227Z",
     "start_time": "2024-10-17T08:53:43.229017Z"
    }
   },
   "id": "9e321bf389a8b2d7",
   "execution_count": 14
  },
  {
   "cell_type": "code",
   "outputs": [],
   "source": [
    "output = model.forward(**input_encoding)"
   ],
   "metadata": {
    "collapsed": false,
    "ExecuteTime": {
     "end_time": "2024-10-17T08:53:43.350538Z",
     "start_time": "2024-10-17T08:53:43.232883Z"
    }
   },
   "id": "408d2726c9989a5a",
   "execution_count": 15
  },
  {
   "cell_type": "code",
   "outputs": [
    {
     "data": {
      "text/plain": "torch.Size([1, 128, 570])"
     },
     "execution_count": 16,
     "metadata": {},
     "output_type": "execute_result"
    }
   ],
   "source": [
    "output['spectrograms'].size()"
   ],
   "metadata": {
    "collapsed": false,
    "ExecuteTime": {
     "end_time": "2024-10-17T08:53:43.353619Z",
     "start_time": "2024-10-17T08:53:43.351335Z"
    }
   },
   "id": "736273b5305a3e3a",
   "execution_count": 16
  },
  {
   "cell_type": "code",
   "outputs": [],
   "source": [
    "target_output = model.prepare_output(text, audio_file_path)"
   ],
   "metadata": {
    "collapsed": false,
    "ExecuteTime": {
     "end_time": "2024-10-17T08:53:43.456131Z",
     "start_time": "2024-10-17T08:53:43.354207Z"
    }
   },
   "id": "882c13cf8d57566c",
   "execution_count": 17
  },
  {
   "cell_type": "code",
   "outputs": [
    {
     "data": {
      "text/plain": "torch.Size([1, 128, 570])"
     },
     "execution_count": 18,
     "metadata": {},
     "output_type": "execute_result"
    }
   ],
   "source": [
    "target_output['target_spectrograms'].size()"
   ],
   "metadata": {
    "collapsed": false,
    "ExecuteTime": {
     "end_time": "2024-10-17T08:53:43.459075Z",
     "start_time": "2024-10-17T08:53:43.456942Z"
    }
   },
   "id": "402211a5f8f748e",
   "execution_count": 18
  },
  {
   "cell_type": "code",
   "outputs": [
    {
     "data": {
      "text/plain": "(tensor(3634.9307, grad_fn=<AddBackward0>),\n {'language_modelling_loss': tensor(20.2639, grad_fn=<NllLossBackward0>),\n  'spectrogram_generation_loss': tensor(3614.6667, grad_fn=<MseLossBackward0>)})"
     },
     "execution_count": 19,
     "metadata": {},
     "output_type": "execute_result"
    }
   ],
   "source": [
    "loss = model._loss(\n",
    "    token_logits=output['logits'],\n",
    "    token_labels=target_output['token_labels'],\n",
    "    predicted_spectrograms=output['spectrograms'],\n",
    "    target_spectrograms=target_output['target_spectrograms']\n",
    ")\n",
    "loss"
   ],
   "metadata": {
    "collapsed": false,
    "ExecuteTime": {
     "end_time": "2024-10-17T08:53:43.472369Z",
     "start_time": "2024-10-17T08:53:43.459608Z"
    }
   },
   "id": "bb26fd7feb4ebfaa",
   "execution_count": 19
  },
  {
   "cell_type": "code",
   "outputs": [
    {
     "data": {
      "text/plain": "torch.Size([128, 402])"
     },
     "execution_count": 20,
     "metadata": {},
     "output_type": "execute_result"
    }
   ],
   "source": [
    "model.post_process_spectrograms(input_encoding['input_spectrograms'], input_encoding['input_ids'])[0][0].size()"
   ],
   "metadata": {
    "collapsed": false,
    "ExecuteTime": {
     "end_time": "2024-10-17T08:53:43.474763Z",
     "start_time": "2024-10-17T08:53:43.472813Z"
    }
   },
   "id": "4adf903ff9a40b65",
   "execution_count": 20
  },
  {
   "cell_type": "code",
   "outputs": [
    {
     "data": {
      "text/plain": "(128, 402)"
     },
     "execution_count": 21,
     "metadata": {},
     "output_type": "execute_result"
    }
   ],
   "source": [
    "model.audio_processor.encode(audio_file_path).shape"
   ],
   "metadata": {
    "collapsed": false,
    "ExecuteTime": {
     "end_time": "2024-10-17T08:53:43.487443Z",
     "start_time": "2024-10-17T08:53:43.475231Z"
    }
   },
   "id": "424d3d70f74ce1da",
   "execution_count": 21
  },
  {
   "cell_type": "markdown",
   "source": [
    "## Generate"
   ],
   "metadata": {
    "collapsed": false
   },
   "id": "e95d908409dcc2da"
  },
  {
   "cell_type": "code",
   "outputs": [],
   "source": [
    "model.enable_benchmarking()"
   ],
   "metadata": {
    "collapsed": false,
    "ExecuteTime": {
     "end_time": "2024-10-17T08:53:43.491512Z",
     "start_time": "2024-10-17T08:53:43.488098Z"
    }
   },
   "id": "128adfd9db3d097e",
   "execution_count": 22
  },
  {
   "cell_type": "code",
   "outputs": [
    {
     "name": "stderr",
     "output_type": "stream",
     "text": [
      "Setting `pad_token_id` to `eos_token_id`:50256 for open-end generation.\n"
     ]
    }
   ],
   "source": [
    "ids, specs = model.generate(**input_encoding, max_new_tokens=4)\n",
    "# ids, specs = model.generate(input_encoding.input_ids, max_new_tokens=4)"
   ],
   "metadata": {
    "collapsed": false,
    "ExecuteTime": {
     "end_time": "2024-10-17T08:53:43.869933Z",
     "start_time": "2024-10-17T08:53:43.492285Z"
    }
   },
   "id": "8e538355112374cc",
   "execution_count": 23
  },
  {
   "cell_type": "code",
   "outputs": [
    {
     "data": {
      "text/plain": "tensor([[ 8291,    66,  4892,   262,  1708,  6597, 10651,    25,   198, 50257,\n         50257, 50257, 50257, 50257, 50257, 50257, 50257, 50257, 50257, 50257,\n         50257, 50257, 50257, 50257, 50257, 50257, 50257, 50257, 50257, 50257,\n         50257, 50257, 50257, 50257, 50257, 50257, 50257, 50257, 50257, 50257,\n         50257, 50257, 50257, 50257, 50257, 50257, 50257, 50257, 50257, 50257,\n         50257, 50257, 50257, 50257, 50257, 50257, 50257, 50257, 50257, 50257,\n         50257, 50257, 50257, 50257, 50257, 50257, 50257, 50257, 50257, 50257,\n         50257, 50257, 50257, 50257, 50257, 50257,   198,   198,  8291,  6820,\n            25,   198,     1,   818,   257,  7604,   287,   262,  2323,   612,\n          5615,   257, 32724,  2545,   526, 50257, 50257, 50257, 50257]])"
     },
     "execution_count": 24,
     "metadata": {},
     "output_type": "execute_result"
    }
   ],
   "source": [
    "ids"
   ],
   "metadata": {
    "collapsed": false,
    "ExecuteTime": {
     "end_time": "2024-10-17T08:53:43.873106Z",
     "start_time": "2024-10-17T08:53:43.870719Z"
    }
   },
   "id": "af0851951d865e47",
   "execution_count": 24
  },
  {
   "cell_type": "code",
   "outputs": [
    {
     "data": {
      "text/plain": "tensor([[[    nan,     nan,     nan,  ...,  0.0524, -0.3149,  0.5077],\n         [    nan,     nan,     nan,  ..., -0.7762, -0.3863,  0.4043],\n         [    nan,     nan,     nan,  ..., -0.2447, -0.6477,  0.3145],\n         ...,\n         [    nan,     nan,     nan,  ..., -0.5020, -0.4748,  0.4301],\n         [    nan,     nan,     nan,  ...,  0.0308, -1.0451,  0.3360],\n         [    nan,     nan,     nan,  ..., -0.0934,  0.5593, -0.2245]]])"
     },
     "execution_count": 25,
     "metadata": {},
     "output_type": "execute_result"
    }
   ],
   "source": [
    "specs"
   ],
   "metadata": {
    "collapsed": false,
    "ExecuteTime": {
     "end_time": "2024-10-17T08:53:55.107840Z",
     "start_time": "2024-10-17T08:53:55.104988Z"
    }
   },
   "id": "bc98edcf89963554",
   "execution_count": 25
  },
  {
   "cell_type": "markdown",
   "source": [],
   "metadata": {
    "collapsed": false
   },
   "id": "8f1ccd7aaaf1c820"
  }
 ],
 "metadata": {
  "kernelspec": {
   "display_name": "Python 3",
   "language": "python",
   "name": "python3"
  },
  "language_info": {
   "codemirror_mode": {
    "name": "ipython",
    "version": 2
   },
   "file_extension": ".py",
   "mimetype": "text/x-python",
   "name": "python",
   "nbconvert_exporter": "python",
   "pygments_lexer": "ipython2",
   "version": "2.7.6"
  }
 },
 "nbformat": 4,
 "nbformat_minor": 5
}
