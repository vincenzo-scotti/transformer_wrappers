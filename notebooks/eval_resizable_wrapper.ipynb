{
 "cells": [
  {
   "cell_type": "markdown",
   "metadata": {},
   "source": [
    "# Parallel Wrapper Evaluation"
   ]
  },
  {
   "cell_type": "markdown",
   "metadata": {
    "collapsed": false,
    "jupyter": {
     "outputs_hidden": false
    }
   },
   "source": [
    "## Environment"
   ]
  },
  {
   "cell_type": "markdown",
   "metadata": {
    "collapsed": false,
    "jupyter": {
     "outputs_hidden": false
    }
   },
   "source": [
    "### Imports"
   ]
  },
  {
   "cell_type": "code",
   "execution_count": 1,
   "metadata": {
    "collapsed": false,
    "jupyter": {
     "outputs_hidden": false
    }
   },
   "outputs": [],
   "source": [
    "import sys\n",
    "sys.path.append('/home/vincenzoscotti/Projects/transformer_wrappers/src')"
   ]
  },
  {
   "cell_type": "code",
   "execution_count": 2,
   "metadata": {
    "collapsed": false,
    "jupyter": {
     "outputs_hidden": false
    }
   },
   "outputs": [],
   "source": [
    "import os\n",
    "import itertools\n",
    "from datetime import datetime\n",
    "import json\n",
    "import yaml\n",
    "import pandas as pd\n",
    "import hashlib"
   ]
  },
  {
   "cell_type": "code",
   "execution_count": 3,
   "metadata": {
    "collapsed": false,
    "is_executing": true,
    "jupyter": {
     "outputs_hidden": false
    }
   },
   "outputs": [],
   "source": [
    "import torch"
   ]
  },
  {
   "cell_type": "code",
   "execution_count": 4,
   "metadata": {},
   "outputs": [
    {
     "name": "stderr",
     "output_type": "stream",
     "text": [
      "/home/vincenzoscotti/anaconda3/envs/trwrap/lib/python3.12/site-packages/tqdm/auto.py:21: TqdmWarning: IProgress not found. Please update jupyter and ipywidgets. See https://ipywidgets.readthedocs.io/en/stable/user_install.html\n",
      "  from .autonotebook import tqdm as notebook_tqdm\n",
      "2024-04-30 10:29:23.996594: I tensorflow/core/util/port.cc:113] oneDNN custom operations are on. You may see slightly different numerical results due to floating-point round-off errors from different computation orders. To turn them off, set the environment variable `TF_ENABLE_ONEDNN_OPTS=0`.\n",
      "2024-04-30 10:29:24.019877: I tensorflow/core/platform/cpu_feature_guard.cc:210] This TensorFlow binary is optimized to use available CPU instructions in performance-critical operations.\n",
      "To enable the following instructions: AVX2 AVX_VNNI FMA, in other operations, rebuild TensorFlow with the appropriate compiler flags.\n",
      "2024-04-30 10:29:24.603661: W tensorflow/compiler/tf2tensorrt/utils/py_utils.cc:38] TF-TRT Warning: Could not find TensorRT\n"
     ]
    }
   ],
   "source": [
    "from transformers import AutoModelForCausalLM, AutoTokenizer\n",
    "from transformers import BitsAndBytesConfig, TrainingArguments\n",
    "from datasets import Dataset\n",
    "from peft import LoraConfig, prepare_model_for_kbit_training, get_peft_model\n",
    "from peft import AutoPeftModelForCausalLM, AutoPeftModelForSeq2SeqLM\n",
    "from trl import SFTTrainer"
   ]
  },
  {
   "cell_type": "code",
   "execution_count": 5,
   "metadata": {
    "collapsed": false,
    "jupyter": {
     "outputs_hidden": false
    }
   },
   "outputs": [],
   "source": [
    "from transformer_wrappers.wrappers import ResizableCausalLMWrapper, CausalLMWrapper\n",
    "from transformer_wrappers.wrappers.resizable import ResizableTokenizer"
   ]
  },
  {
   "cell_type": "code",
   "execution_count": 6,
   "metadata": {},
   "outputs": [],
   "source": [
    "from transformer_wrappers.data import OpenAssistantGuanaco"
   ]
  },
  {
   "cell_type": "code",
   "execution_count": 7,
   "metadata": {
    "collapsed": false,
    "jupyter": {
     "outputs_hidden": false
    }
   },
   "outputs": [],
   "source": [
    "import lm_eval"
   ]
  },
  {
   "cell_type": "code",
   "execution_count": 8,
   "metadata": {
    "collapsed": false,
    "jupyter": {
     "outputs_hidden": false
    }
   },
   "outputs": [],
   "source": [
    "from typing import List, Dict"
   ]
  },
  {
   "cell_type": "code",
   "execution_count": 9,
   "metadata": {
    "collapsed": false,
    "jupyter": {
     "outputs_hidden": false
    }
   },
   "outputs": [],
   "source": [
    "%matplotlib inline\n",
    "from matplotlib import pyplot as plt\n",
    "import seaborn as sns"
   ]
  },
  {
   "cell_type": "markdown",
   "metadata": {
    "collapsed": false,
    "jupyter": {
     "outputs_hidden": false
    }
   },
   "source": [
    "### Constants and globals"
   ]
  },
  {
   "cell_type": "code",
   "execution_count": 10,
   "metadata": {
    "collapsed": false,
    "jupyter": {
     "outputs_hidden": false
    }
   },
   "outputs": [],
   "source": [
    "TOKEN = None  # HF Token"
   ]
  },
  {
   "cell_type": "code",
   "execution_count": 11,
   "metadata": {
    "collapsed": false,
    "jupyter": {
     "outputs_hidden": false
    }
   },
   "outputs": [],
   "source": [
    "EXPERIMENTS_DIR_PATH: str = '/home/vincenzoscotti/Projects/transformer_wrappers/experiments'\n",
    "EXPERIMENT_SERIES_ID: str = 'resizable_wrapper'"
   ]
  },
  {
   "cell_type": "code",
   "execution_count": 12,
   "metadata": {
    "collapsed": false,
    "jupyter": {
     "outputs_hidden": false
    }
   },
   "outputs": [],
   "source": [
    "BENCHMARKS: List[str] = ['hellaswag', 'winogrande', 'truthfulqa_mc1', 'gsm8k', 'arc_challenge', 'mmlu']"
   ]
  },
  {
   "cell_type": "code",
   "execution_count": 13,
   "metadata": {
    "collapsed": false,
    "jupyter": {
     "outputs_hidden": false
    }
   },
   "outputs": [],
   "source": [
    "BATCH_SIZE: int = 8"
   ]
  },
  {
   "cell_type": "code",
   "execution_count": 14,
   "metadata": {
    "collapsed": false,
    "jupyter": {
     "outputs_hidden": false
    }
   },
   "outputs": [],
   "source": [
    "MODEL = 'mistralai/Mistral-7B-Instruct-v0.2'  \n",
    "# MODEL = 'meta-llama/Llama-2-7b-hf'\n",
    "# MODEL = 'google/gemma-7b'\n",
    "MODEL_CONFIGS = {\n",
    "    'torch_dtype': torch.bfloat16,\n",
    "    'device_map': torch.device('cuda' if torch.cuda.is_available() else 'cpu'),\n",
    "    'token': TOKEN\n",
    "}\n",
    "QUANTIZATION_CONFIGS = {\n",
    "    'load_in_4bit': True,\n",
    "    'bnb_4bit_use_double_quant': True, \n",
    "    'bnb_4bit_quant_type': 'nf4', \n",
    "    'bnb_4bit_compute_dtype': torch.bfloat16\n",
    "}\n",
    "TOKENIZER = MODEL\n",
    "TOKENIZER_CONFIGS = {'token': TOKEN, 'pad_token': '</s>'}\n",
    "WRAPPER_CONFIGS_KEYS: List[str] = ['max_token_len']\n",
    "WRAPPER_CONFIGS_VALUES: List[str] = [[1, 2, 3, 4, 5, 6, 7, 8, None]]"
   ]
  },
  {
   "cell_type": "code",
   "execution_count": 36,
   "metadata": {},
   "outputs": [],
   "source": [
    "LORA_CONFIGS = {\n",
    "    'lora_alpha': 16,\n",
    "    'lora_dropout': 0.1,\n",
    "    'r': 16,\n",
    "    # 'bias': None,\n",
    "    'task_type': 'CAUSAL_LM'\n",
    "}\n",
    "TRAINING_ARGS = {\n",
    "    'num_train_epochs': 3,\n",
    "    'per_device_train_batch_size': 1,\n",
    "    # 'gradient_accumulation_steps': 32,\n",
    "    'gradient_checkpointing': True,\n",
    "    'optim': 'paged_adamw_32bit',\n",
    "    'logging_steps': 50,\n",
    "    'report_to': 'tensorboard',\n",
    "    'save_strategy': 'epoch',\n",
    "    'evaluation_strategy': 'epoch',\n",
    "    'load_best_model_at_end': True,\n",
    "    'learning_rate': 2.e-5,\n",
    "    'bf16': True,\n",
    "    'tf32': True,\n",
    "    'max_grad_norm': 1.0,\n",
    "    'warmup_ratio': 0.03,\n",
    "    'lr_scheduler_type': 'cosine',\n",
    "    # 'disable_tqdm': True\n",
    "}"
   ]
  },
  {
   "cell_type": "code",
   "execution_count": 16,
   "metadata": {},
   "outputs": [],
   "source": [
    "if not os.path.exists(EXPERIMENTS_DIR_PATH):\n",
    "    os.mkdir(EXPERIMENTS_DIR_PATH)\n",
    "if not os.path.exists(os.path.join(EXPERIMENTS_DIR_PATH, EXPERIMENT_SERIES_ID)):\n",
    "    os.mkdir(os.path.join(EXPERIMENTS_DIR_PATH, EXPERIMENT_SERIES_ID))\n",
    "\n",
    "current_experiments_dir = os.path.join(EXPERIMENTS_DIR_PATH, EXPERIMENT_SERIES_ID, MODEL.replace('/', '-'))\n",
    "if not os.path.exists(current_experiments_dir):\n",
    "    os.mkdir(current_experiments_dir)"
   ]
  },
  {
   "cell_type": "markdown",
   "metadata": {
    "collapsed": false,
    "jupyter": {
     "outputs_hidden": false
    }
   },
   "source": [
    "### Helper functions"
   ]
  },
  {
   "cell_type": "code",
   "execution_count": 17,
   "metadata": {},
   "outputs": [],
   "source": [
    "def get_configs_hash(configs):\n",
    "    return hashlib.sha256(str(configs).encode()).hexdigest()"
   ]
  },
  {
   "cell_type": "code",
   "execution_count": 18,
   "metadata": {},
   "outputs": [],
   "source": [
    "def append_results(**kwargs):\n",
    "    file_path = os.path.join(EXPERIMENTS_DIR_PATH, EXPERIMENT_SERIES_ID, 'results.csv')\n",
    "    if os.path.exists(file_path):\n",
    "        df = pd.read_csv(file_path)\n",
    "        df = pd.concat([df, pd.DataFrame.from_dict([kwargs])], ignore_index=True)\n",
    "    else:\n",
    "        df = pd.DataFrame.from_dict([kwargs])\n",
    "    df.to_csv(file_path, index=None)"
   ]
  },
  {
   "cell_type": "code",
   "execution_count": 19,
   "metadata": {},
   "outputs": [],
   "source": [
    "def load_results_df():\n",
    "    file_path = os.path.join(EXPERIMENTS_DIR_PATH, EXPERIMENT_SERIES_ID, 'results.csv')\n",
    "    return pd.read_csv(file_path, index=False)"
   ]
  },
  {
   "cell_type": "code",
   "execution_count": 20,
   "metadata": {
    "collapsed": false,
    "jupyter": {
     "outputs_hidden": false
    }
   },
   "outputs": [],
   "source": [
    "def save_results(results, configs, benchmark):\n",
    "    # Create dir (if necessary)\n",
    "    dir_path = os.path.join(current_experiments_dir, get_configs_hash(configs))\n",
    "    if not os.path.exists(dir_path):\n",
    "        os.mkdir(dir_path)\n",
    "    # Save configs (if necessary)\n",
    "    configs_file_path = os.path.join(dir_path, 'configs.yml')\n",
    "    if not os.path.exists(configs_file_path):\n",
    "        with open(configs_file_path, 'w') as f:\n",
    "            yaml.dump(configs, f)\n",
    "    # Save results\n",
    "    file_path = os.path.join(dir_path, f'{benchmark}.json')\n",
    "    with open(file_path, 'w') as f:\n",
    "        json.dump({k: results[k] for k in results if k!='config'}, f)\n",
    "    # Append results to main CSV\n",
    "    append_results(model=MODEL, benchmark=benchmark, **results['results'][benchmark], **configs)"
   ]
  },
  {
   "cell_type": "code",
   "execution_count": 21,
   "metadata": {
    "collapsed": false,
    "jupyter": {
     "outputs_hidden": false
    }
   },
   "outputs": [],
   "source": [
    "def check_results_exist(configs, benchmark):\n",
    "    dir_path = os.path.join(current_experiments_dir, get_configs_hash(configs))\n",
    "    file_path = os.path.join(dir_path, f'{benchmark}.json')\n",
    "    \n",
    "    return os.path.exists(file_path)"
   ]
  },
  {
   "cell_type": "code",
   "execution_count": 43,
   "metadata": {},
   "outputs": [],
   "source": [
    "def setup_fine_tuning(configs):\n",
    "    # Create dir (if necessary)\n",
    "    dir_path = os.path.join(current_experiments_dir, f'FT-{get_configs_hash(configs)}')\n",
    "    if not os.path.exists(dir_path):\n",
    "        os.mkdir(dir_path)\n",
    "    istance_dir_path = os.path.join(current_experiments_dir, datetime.now().strftime('%Y_%m_%d_%H_%M_%S'))\n",
    "    os.mkdir(istance_dir_path)\n",
    "    os.mkdir(os.path.join(istance_dir_path, 'logs'))\n",
    "    # Save configs (if necessary)\n",
    "    configs_file_path = os.path.join(istance_dir_path, 'configs.yml')\n",
    "    with open(configs_file_path, 'w') as f:\n",
    "        yaml.dump(\n",
    "            {\n",
    "                'wrapper_configs': configs, \n",
    "                'model': MODEL, \n",
    "                'model_configs': {k: v if k not in {'torch_dtype', 'device_map'} else str(v) for k, v in MODEL_CONFIGS.items()},\n",
    "                'quantization_configs': {k: v if k != 'bnb_4bit_compute_dtype' else str(v) for k, v in QUANTIZATION_CONFIGS.items()},\n",
    "                'tokenizer': TOKENIZER,\n",
    "                'tokenizer_configs': TOKENIZER_CONFIGS,\n",
    "                'lora_configs': LORA_CONFIGS,\n",
    "                'training_args': TRAINING_ARGS\n",
    "            }, \n",
    "            f\n",
    "        )\n",
    "\n",
    "    return istance_dir_path"
   ]
  },
  {
   "cell_type": "code",
   "execution_count": 23,
   "metadata": {},
   "outputs": [],
   "source": [
    "def save_fine_tuning_results(results, configs, benchmark, istance_dir_path):\n",
    "    # Save results\n",
    "    file_path = os.path.join(istance_dir_path, f'{benchmark}.json')\n",
    "    with open(file_path, 'w') as f:\n",
    "        json.dump({k: results[k] for k in results if k!='config'}, f)\n",
    "    # Append results to main CSV\n",
    "    append_results(model=MODEL, benchmark=benchmark, **results['results'][benchmark], **configs)"
   ]
  },
  {
   "cell_type": "markdown",
   "metadata": {
    "jp-MarkdownHeadingCollapsed": true
   },
   "source": [
    "## Experiment:"
   ]
  },
  {
   "cell_type": "markdown",
   "metadata": {},
   "source": [
    "### Model"
   ]
  },
  {
   "cell_type": "markdown",
   "metadata": {
    "collapsed": false,
    "jupyter": {
     "outputs_hidden": false
    }
   },
   "source": [
    "Load model"
   ]
  },
  {
   "cell_type": "code",
   "execution_count": 19,
   "metadata": {
    "collapsed": false,
    "jupyter": {
     "outputs_hidden": false
    }
   },
   "outputs": [
    {
     "name": "stderr",
     "output_type": "stream",
     "text": [
      "Loading checkpoint shards: 100%|██████████████████████████████████████████████████████████████████████████████████████| 3/3 [00:01<00:00,  1.76it/s]\n"
     ]
    }
   ],
   "source": [
    "model = ResizableCausalLMWrapper.from_pretrained(\n",
    "# model = CausalLMWrapper.from_pretrained(\n",
    "    MODEL, \n",
    "    model_kwargs=MODEL_CONFIGS,\n",
    "    tokenizer_kwargs=TOKENIZER_CONFIGS\n",
    ")\n",
    "model.enable_benchmarking()"
   ]
  },
  {
   "cell_type": "markdown",
   "metadata": {},
   "source": [
    "### Evaluation"
   ]
  },
  {
   "cell_type": "code",
   "execution_count": 20,
   "metadata": {
    "collapsed": false,
    "jupyter": {
     "outputs_hidden": false
    }
   },
   "outputs": [],
   "source": [
    "experiment_configs: List[Dict] = [\n",
    "    {k: v for k, v in zip(WRAPPER_CONFIGS_KEYS, configs)}\n",
    "    for configs in itertools.product(*WRAPPER_CONFIGS_VALUES)\n",
    "]"
   ]
  },
  {
   "cell_type": "code",
   "execution_count": null,
   "metadata": {},
   "outputs": [
    {
     "name": "stderr",
     "output_type": "stream",
     "text": [
      "2024-04-30:00:16:27,152 INFO     [evaluator.py:129] Setting random seed to 0 | Setting numpy seed to 1234 | Setting torch manual seed to 1234\n",
      "2024-04-30:00:16:27,155 WARNING  [huggingface.py:118] `pretrained` model kwarg is not of type `str`. Many other model arguments may be ignored. Please do not launch via accelerate or use `parallelize=True` if passing an existing model this way.\n",
      "2024-04-30:00:16:27,211 INFO     [huggingface.py:414] Overrode HF model backend type, and using type 'causal'\n",
      "2024-04-30:00:16:27,323 WARNING  [huggingface.py:337] Passed an already-initialized model through `pretrained`, assuming single-process call to evaluate() or custom distributed integration\n"
     ]
    },
    {
     "name": "stdout",
     "output_type": "stream",
     "text": [
      "# Benchmark\n",
      "## Configs: {'max_token_len': 1}\n"
     ]
    },
    {
     "name": "stderr",
     "output_type": "stream",
     "text": [
      "2024-04-30:00:16:29,878 INFO     [evaluator.py:190] get_task_dict has been updated to accept an optional argument, `task_manager`Read more here:https://github.com/EleutherAI/lm-evaluation-harness/blob/main/docs/interface.md#external-library-usage\n",
      "/home/vincenzoscotti/anaconda3/envs/trwrap/lib/python3.12/site-packages/datasets/load.py:1461: FutureWarning: The repository for hellaswag contains custom code which must be executed to correctly load the dataset. You can inspect the repository content at https://hf.co/datasets/hellaswag\n",
      "You can avoid this message in future by passing the argument `trust_remote_code=True`.\n",
      "Passing `trust_remote_code=True` will be mandatory to load this dataset from the next major release of `datasets`.\n",
      "  warnings.warn(\n",
      "2024-04-30:00:16:35,716 INFO     [task.py:395] Building contexts for hellaswag on rank 0...\n",
      "100%|███████████████████████████████████████████████████████████████████████████████████████████████████████| 10042/10042 [00:01<00:00, 7688.49it/s]\n",
      "2024-04-30:00:16:37,543 INFO     [evaluator.py:357] Running loglikelihood requests\n"
     ]
    }
   ],
   "source": [
    "# Iterate over benchmarks\n",
    "for benchmark in BENCHMARKS:\n",
    "    print(\"# Benchmark\")\n",
    "    # Iterate over configs\n",
    "    for configs in experiment_configs:\n",
    "        print(f\"## Configs: {configs}\")\n",
    "        # Run evaluation (if results are not avaialble yet)\n",
    "        if not check_results_exist(configs, benchmark):\n",
    "            # Set attribute values  # TODO fixme\n",
    "            for k, v in configs.items():\n",
    "                setattr(model, k, v)\n",
    "            # Run evaluation\n",
    "            results = lm_eval.simple_evaluate(\n",
    "                model=\"hf\",\n",
    "                model_args={'pretrained': model, 'tokenizer': model.tokenizer, 'backend': 'causal'},\n",
    "                # model_args='pretrained=mistralai/Mistral-7B-Instruct-v0.2,attn_implementation=eager,device_map=cuda',\n",
    "                tasks=[benchmark],\n",
    "                batch_size=BATCH_SIZE,\n",
    "                # log_samples=True,\n",
    "            )\n",
    "            # Save results\n",
    "            save_results(results, configs, benchmark)"
   ]
  },
  {
   "cell_type": "markdown",
   "metadata": {},
   "source": [
    "## Fine-tuning"
   ]
  },
  {
   "cell_type": "code",
   "execution_count": 24,
   "metadata": {},
   "outputs": [],
   "source": [
    "configs = {'max_token_len': 1, 'fine_tuning': True}"
   ]
  },
  {
   "cell_type": "markdown",
   "metadata": {},
   "source": [
    "### Model"
   ]
  },
  {
   "cell_type": "markdown",
   "metadata": {
    "collapsed": false,
    "jupyter": {
     "outputs_hidden": false
    }
   },
   "source": [
    "Load model"
   ]
  },
  {
   "cell_type": "code",
   "execution_count": 26,
   "metadata": {
    "collapsed": false,
    "jupyter": {
     "outputs_hidden": false
    }
   },
   "outputs": [
    {
     "name": "stderr",
     "output_type": "stream",
     "text": [
      "The `load_in_4bit` and `load_in_8bit` arguments are deprecated and will be removed in the future versions. Please, pass a `BitsAndBytesConfig` object in `quantization_config` argument instead.\n",
      "Loading checkpoint shards: 100%|██████████████████████████████████████████████████████████████████████████████████████| 3/3 [00:01<00:00,  1.55it/s]\n"
     ]
    }
   ],
   "source": [
    "model = AutoModelForCausalLM.from_pretrained(MODEL, **MODEL_CONFIGS, **QUANTIZATION_CONFIGS)\n",
    "tokenizer = ResizableTokenizer(AutoTokenizer.from_pretrained(TOKENIZER, **TOKENIZER_CONFIGS), max_token_len=1)"
   ]
  },
  {
   "cell_type": "markdown",
   "metadata": {},
   "source": [
    "Adapters"
   ]
  },
  {
   "cell_type": "code",
   "execution_count": 37,
   "metadata": {},
   "outputs": [],
   "source": [
    "lora_configs = LoraConfig(**LORA_CONFIGS)"
   ]
  },
  {
   "cell_type": "code",
   "execution_count": 38,
   "metadata": {},
   "outputs": [],
   "source": [
    "model = prepare_model_for_kbit_training(model)\n",
    "model = get_peft_model(model, lora_configs)"
   ]
  },
  {
   "cell_type": "markdown",
   "metadata": {},
   "source": [
    "### Data"
   ]
  },
  {
   "cell_type": "code",
   "execution_count": 39,
   "metadata": {},
   "outputs": [
    {
     "name": "stderr",
     "output_type": "stream",
     "text": [
      "Repo card metadata block was not found. Setting CardData to empty.\n",
      "2024-04-30:10:31:20,949 WARNING  [repocard.py:107] Repo card metadata block was not found. Setting CardData to empty.\n",
      "Repo card metadata block was not found. Setting CardData to empty.\n",
      "2024-04-30:10:31:33,363 WARNING  [repocard.py:107] Repo card metadata block was not found. Setting CardData to empty.\n",
      "Repo card metadata block was not found. Setting CardData to empty.\n",
      "2024-04-30:10:31:37,156 WARNING  [repocard.py:107] Repo card metadata block was not found. Setting CardData to empty.\n"
     ]
    }
   ],
   "source": [
    "data_splits = {\n",
    "    split: OpenAssistantGuanaco(split, tokenizer)\n",
    "    for split in ['train', 'validation', 'test']\n",
    "}"
   ]
  },
  {
   "cell_type": "markdown",
   "metadata": {},
   "source": [
    "### Training"
   ]
  },
  {
   "cell_type": "code",
   "execution_count": 44,
   "metadata": {},
   "outputs": [],
   "source": [
    "fine_tuning_dir = setup_fine_tuning(configs)"
   ]
  },
  {
   "cell_type": "markdown",
   "metadata": {},
   "source": [
    "Trainer args"
   ]
  },
  {
   "cell_type": "code",
   "execution_count": 45,
   "metadata": {},
   "outputs": [],
   "source": [
    "training_args = TrainingArguments(\n",
    "    output_dir=os.path.join(fine_tuning_dir, 'logs'),\n",
    "    logging_dir=os.path.join(fine_tuning_dir, 'logs'),\n",
    "    **TRAINING_ARGS\n",
    ")"
   ]
  },
  {
   "cell_type": "markdown",
   "metadata": {},
   "source": [
    "Trainer"
   ]
  },
  {
   "cell_type": "code",
   "execution_count": null,
   "metadata": {},
   "outputs": [
    {
     "name": "stderr",
     "output_type": "stream",
     "text": [
      "Map:  11%|██████████▋                                                                                    | 1000/8861 [00:16<02:08, 61.15 examples/s]"
     ]
    }
   ],
   "source": [
    "q_trainer = SFTTrainer(\n",
    "    model=model,\n",
    "    train_dataset=Dataset.from_dict({'text': data_splits['train'].data}),\n",
    "    eval_dataset=Dataset.from_dict({'text': data_splits['validation'].data}),\n",
    "    peft_config=lora_configs,\n",
    "    max_seq_length=2048,\n",
    "    tokenizer=tokenizer,\n",
    "    args=training_args,\n",
    "    # data_collator=data_splits['train'].huggingface_collate\n",
    "    # formatting_func=lambda x: x['text']\n",
    "    dataset_text_field='text'\n",
    ")"
   ]
  },
  {
   "cell_type": "code",
   "execution_count": null,
   "metadata": {},
   "outputs": [],
   "source": [
    "q_trainer.train()\n",
    "q_trainer.save_model()"
   ]
  },
  {
   "cell_type": "code",
   "execution_count": null,
   "metadata": {},
   "outputs": [],
   "source": [
    "q_trainer.eval()"
   ]
  },
  {
   "cell_type": "markdown",
   "metadata": {},
   "source": [
    "### Evaluation"
   ]
  },
  {
   "cell_type": "code",
   "execution_count": null,
   "metadata": {},
   "outputs": [],
   "source": [
    "# Iterate over benchmarks\n",
    "for benchmark in BENCHMARKS:\n",
    "    print(\"# Benchmark\")\n",
    "    # Run evaluation\n",
    "    results = lm_eval.simple_evaluate(\n",
    "        model=\"hf\",\n",
    "        model_args={'pretrained': model, 'tokenizer': tokenizer, 'backend': 'causal'},\n",
    "        # model_args='pretrained=mistralai/Mistral-7B-Instruct-v0.2,attn_implementation=eager,device_map=cuda',\n",
    "        tasks=[benchmark],\n",
    "        batch_size=BATCH_SIZE,\n",
    "        # log_samples=True,\n",
    "    )\n",
    "    # Save results\n",
    "    save_fine_tuning_results(results, configs, benchmark, fine_tuning_dir)"
   ]
  },
  {
   "cell_type": "markdown",
   "metadata": {
    "collapsed": false,
    "jp-MarkdownHeadingCollapsed": true,
    "jupyter": {
     "outputs_hidden": false
    }
   },
   "source": [
    "## Results"
   ]
  },
  {
   "cell_type": "markdown",
   "metadata": {
    "collapsed": false,
    "jupyter": {
     "outputs_hidden": false
    }
   },
   "source": [
    "Gather experiments results"
   ]
  },
  {
   "cell_type": "code",
   "execution_count": 27,
   "metadata": {
    "collapsed": false,
    "jupyter": {
     "outputs_hidden": false
    },
    "scrolled": true
   },
   "outputs": [
    {
     "data": {
      "text/html": [
       "<div>\n",
       "<style scoped>\n",
       "    .dataframe tbody tr th:only-of-type {\n",
       "        vertical-align: middle;\n",
       "    }\n",
       "\n",
       "    .dataframe tbody tr th {\n",
       "        vertical-align: top;\n",
       "    }\n",
       "\n",
       "    .dataframe thead th {\n",
       "        text-align: right;\n",
       "    }\n",
       "</style>\n",
       "<table border=\"1\" class=\"dataframe\">\n",
       "  <thead>\n",
       "    <tr style=\"text-align: right;\">\n",
       "      <th></th>\n",
       "      <th>benchmark</th>\n",
       "      <th>score</th>\n",
       "      <th>model</th>\n",
       "      <th>p_rate</th>\n",
       "      <th>block_parallel</th>\n",
       "      <th>iterative</th>\n",
       "      <th>average</th>\n",
       "      <th>compensate_avg</th>\n",
       "    </tr>\n",
       "  </thead>\n",
       "  <tbody>\n",
       "    <tr>\n",
       "      <th>0</th>\n",
       "      <td>hellaswag</td>\n",
       "      <td>0.774248</td>\n",
       "      <td>mistralai/Mistral-7B-Instruct-v0.2</td>\n",
       "      <td>2</td>\n",
       "      <td>False</td>\n",
       "      <td>True</td>\n",
       "      <td>False</td>\n",
       "      <td>False</td>\n",
       "    </tr>\n",
       "    <tr>\n",
       "      <th>1</th>\n",
       "      <td>hellaswag</td>\n",
       "      <td>0.261103</td>\n",
       "      <td>mistralai/Mistral-7B-Instruct-v0.2</td>\n",
       "      <td>4</td>\n",
       "      <td>True</td>\n",
       "      <td>False</td>\n",
       "      <td>False</td>\n",
       "      <td>False</td>\n",
       "    </tr>\n",
       "    <tr>\n",
       "      <th>2</th>\n",
       "      <td>hellaswag</td>\n",
       "      <td>0.523302</td>\n",
       "      <td>mistralai/Mistral-7B-Instruct-v0.2</td>\n",
       "      <td>4</td>\n",
       "      <td>True</td>\n",
       "      <td>True</td>\n",
       "      <td>True</td>\n",
       "      <td>False</td>\n",
       "    </tr>\n",
       "    <tr>\n",
       "      <th>3</th>\n",
       "      <td>hellaswag</td>\n",
       "      <td>0.445330</td>\n",
       "      <td>mistralai/Mistral-7B-Instruct-v0.2</td>\n",
       "      <td>4</td>\n",
       "      <td>True</td>\n",
       "      <td>True</td>\n",
       "      <td>False</td>\n",
       "      <td>False</td>\n",
       "    </tr>\n",
       "    <tr>\n",
       "      <th>4</th>\n",
       "      <td>hellaswag</td>\n",
       "      <td>0.746764</td>\n",
       "      <td>mistralai/Mistral-7B-Instruct-v0.2</td>\n",
       "      <td>2</td>\n",
       "      <td>True</td>\n",
       "      <td>True</td>\n",
       "      <td>True</td>\n",
       "      <td>True</td>\n",
       "    </tr>\n",
       "    <tr>\n",
       "      <th>5</th>\n",
       "      <td>hellaswag</td>\n",
       "      <td>0.263195</td>\n",
       "      <td>mistralai/Mistral-7B-Instruct-v0.2</td>\n",
       "      <td>2</td>\n",
       "      <td>True</td>\n",
       "      <td>False</td>\n",
       "      <td>True</td>\n",
       "      <td>True</td>\n",
       "    </tr>\n",
       "    <tr>\n",
       "      <th>6</th>\n",
       "      <td>hellaswag</td>\n",
       "      <td>0.268572</td>\n",
       "      <td>mistralai/Mistral-7B-Instruct-v0.2</td>\n",
       "      <td>2</td>\n",
       "      <td>False</td>\n",
       "      <td>False</td>\n",
       "      <td>False</td>\n",
       "      <td>False</td>\n",
       "    </tr>\n",
       "    <tr>\n",
       "      <th>7</th>\n",
       "      <td>hellaswag</td>\n",
       "      <td>0.262199</td>\n",
       "      <td>mistralai/Mistral-7B-Instruct-v0.2</td>\n",
       "      <td>2</td>\n",
       "      <td>False</td>\n",
       "      <td>False</td>\n",
       "      <td>True</td>\n",
       "      <td>False</td>\n",
       "    </tr>\n",
       "    <tr>\n",
       "      <th>8</th>\n",
       "      <td>hellaswag</td>\n",
       "      <td>0.268672</td>\n",
       "      <td>mistralai/Mistral-7B-Instruct-v0.2</td>\n",
       "      <td>2</td>\n",
       "      <td>False</td>\n",
       "      <td>False</td>\n",
       "      <td>True</td>\n",
       "      <td>True</td>\n",
       "    </tr>\n",
       "    <tr>\n",
       "      <th>9</th>\n",
       "      <td>hellaswag</td>\n",
       "      <td>0.780223</td>\n",
       "      <td>mistralai/Mistral-7B-Instruct-v0.2</td>\n",
       "      <td>2</td>\n",
       "      <td>True</td>\n",
       "      <td>True</td>\n",
       "      <td>False</td>\n",
       "      <td>False</td>\n",
       "    </tr>\n",
       "    <tr>\n",
       "      <th>10</th>\n",
       "      <td>hellaswag</td>\n",
       "      <td>0.753535</td>\n",
       "      <td>mistralai/Mistral-7B-Instruct-v0.2</td>\n",
       "      <td>2</td>\n",
       "      <td>False</td>\n",
       "      <td>True</td>\n",
       "      <td>True</td>\n",
       "      <td>False</td>\n",
       "    </tr>\n",
       "    <tr>\n",
       "      <th>11</th>\n",
       "      <td>hellaswag</td>\n",
       "      <td>0.331508</td>\n",
       "      <td>mistralai/Mistral-7B-Instruct-v0.2</td>\n",
       "      <td>4</td>\n",
       "      <td>False</td>\n",
       "      <td>True</td>\n",
       "      <td>True</td>\n",
       "      <td>False</td>\n",
       "    </tr>\n",
       "    <tr>\n",
       "      <th>12</th>\n",
       "      <td>hellaswag</td>\n",
       "      <td>0.260705</td>\n",
       "      <td>mistralai/Mistral-7B-Instruct-v0.2</td>\n",
       "      <td>4</td>\n",
       "      <td>True</td>\n",
       "      <td>False</td>\n",
       "      <td>True</td>\n",
       "      <td>False</td>\n",
       "    </tr>\n",
       "    <tr>\n",
       "      <th>13</th>\n",
       "      <td>hellaswag</td>\n",
       "      <td>0.262199</td>\n",
       "      <td>mistralai/Mistral-7B-Instruct-v0.2</td>\n",
       "      <td>2</td>\n",
       "      <td>True</td>\n",
       "      <td>False</td>\n",
       "      <td>True</td>\n",
       "      <td>False</td>\n",
       "    </tr>\n",
       "    <tr>\n",
       "      <th>14</th>\n",
       "      <td>hellaswag</td>\n",
       "      <td>0.761004</td>\n",
       "      <td>mistralai/Mistral-7B-Instruct-v0.2</td>\n",
       "      <td>2</td>\n",
       "      <td>True</td>\n",
       "      <td>True</td>\n",
       "      <td>True</td>\n",
       "      <td>False</td>\n",
       "    </tr>\n",
       "    <tr>\n",
       "      <th>15</th>\n",
       "      <td>hellaswag</td>\n",
       "      <td>0.283609</td>\n",
       "      <td>mistralai/Mistral-7B-Instruct-v0.2</td>\n",
       "      <td>2</td>\n",
       "      <td>True</td>\n",
       "      <td>False</td>\n",
       "      <td>False</td>\n",
       "      <td>False</td>\n",
       "    </tr>\n",
       "    <tr>\n",
       "      <th>16</th>\n",
       "      <td>hellaswag</td>\n",
       "      <td>0.774049</td>\n",
       "      <td>mistralai/Mistral-7B-Instruct-v0.2</td>\n",
       "      <td>2</td>\n",
       "      <td>False</td>\n",
       "      <td>True</td>\n",
       "      <td>True</td>\n",
       "      <td>True</td>\n",
       "    </tr>\n",
       "  </tbody>\n",
       "</table>\n",
       "</div>"
      ],
      "text/plain": [
       "    benchmark     score                               model  p_rate  \\\n",
       "0   hellaswag  0.774248  mistralai/Mistral-7B-Instruct-v0.2       2   \n",
       "1   hellaswag  0.261103  mistralai/Mistral-7B-Instruct-v0.2       4   \n",
       "2   hellaswag  0.523302  mistralai/Mistral-7B-Instruct-v0.2       4   \n",
       "3   hellaswag  0.445330  mistralai/Mistral-7B-Instruct-v0.2       4   \n",
       "4   hellaswag  0.746764  mistralai/Mistral-7B-Instruct-v0.2       2   \n",
       "5   hellaswag  0.263195  mistralai/Mistral-7B-Instruct-v0.2       2   \n",
       "6   hellaswag  0.268572  mistralai/Mistral-7B-Instruct-v0.2       2   \n",
       "7   hellaswag  0.262199  mistralai/Mistral-7B-Instruct-v0.2       2   \n",
       "8   hellaswag  0.268672  mistralai/Mistral-7B-Instruct-v0.2       2   \n",
       "9   hellaswag  0.780223  mistralai/Mistral-7B-Instruct-v0.2       2   \n",
       "10  hellaswag  0.753535  mistralai/Mistral-7B-Instruct-v0.2       2   \n",
       "11  hellaswag  0.331508  mistralai/Mistral-7B-Instruct-v0.2       4   \n",
       "12  hellaswag  0.260705  mistralai/Mistral-7B-Instruct-v0.2       4   \n",
       "13  hellaswag  0.262199  mistralai/Mistral-7B-Instruct-v0.2       2   \n",
       "14  hellaswag  0.761004  mistralai/Mistral-7B-Instruct-v0.2       2   \n",
       "15  hellaswag  0.283609  mistralai/Mistral-7B-Instruct-v0.2       2   \n",
       "16  hellaswag  0.774049  mistralai/Mistral-7B-Instruct-v0.2       2   \n",
       "\n",
       "    block_parallel  iterative  average  compensate_avg  \n",
       "0            False       True    False           False  \n",
       "1             True      False    False           False  \n",
       "2             True       True     True           False  \n",
       "3             True       True    False           False  \n",
       "4             True       True     True            True  \n",
       "5             True      False     True            True  \n",
       "6            False      False    False           False  \n",
       "7            False      False     True           False  \n",
       "8            False      False     True            True  \n",
       "9             True       True    False           False  \n",
       "10           False       True     True           False  \n",
       "11           False       True     True           False  \n",
       "12            True      False     True           False  \n",
       "13            True      False     True           False  \n",
       "14            True       True     True           False  \n",
       "15            True      False    False           False  \n",
       "16           False       True     True            True  "
      ]
     },
     "execution_count": 27,
     "metadata": {},
     "output_type": "execute_result"
    }
   ],
   "source": [
    "results_df = load_results_df()\n",
    "results_df"
   ]
  },
  {
   "cell_type": "code",
   "execution_count": 31,
   "metadata": {},
   "outputs": [
    {
     "data": {
      "text/html": [
       "<div>\n",
       "<style scoped>\n",
       "    .dataframe tbody tr th:only-of-type {\n",
       "        vertical-align: middle;\n",
       "    }\n",
       "\n",
       "    .dataframe tbody tr th {\n",
       "        vertical-align: top;\n",
       "    }\n",
       "\n",
       "    .dataframe thead th {\n",
       "        text-align: right;\n",
       "    }\n",
       "</style>\n",
       "<table border=\"1\" class=\"dataframe\">\n",
       "  <thead>\n",
       "    <tr style=\"text-align: right;\">\n",
       "      <th></th>\n",
       "      <th>model</th>\n",
       "      <th>benchmark</th>\n",
       "      <th>acc,none</th>\n",
       "      <th>acc_stderr,none</th>\n",
       "      <th>acc_norm,none</th>\n",
       "      <th>acc_norm_stderr,none</th>\n",
       "      <th>alias</th>\n",
       "      <th>max_token_len</th>\n",
       "      <th>accuracy</th>\n",
       "    </tr>\n",
       "  </thead>\n",
       "  <tbody>\n",
       "    <tr>\n",
       "      <th>0</th>\n",
       "      <td>mistralai/Mistral-7B-Instruct-v0.2</td>\n",
       "      <td>hellaswag</td>\n",
       "      <td>0.327325</td>\n",
       "      <td>0.004683</td>\n",
       "      <td>0.435371</td>\n",
       "      <td>0.004948</td>\n",
       "      <td>hellaswag</td>\n",
       "      <td>1</td>\n",
       "      <td>0.435371</td>\n",
       "    </tr>\n",
       "    <tr>\n",
       "      <th>1</th>\n",
       "      <td>mistralai/Mistral-7B-Instruct-v0.2</td>\n",
       "      <td>hellaswag</td>\n",
       "      <td>0.383489</td>\n",
       "      <td>0.004852</td>\n",
       "      <td>0.576280</td>\n",
       "      <td>0.004931</td>\n",
       "      <td>hellaswag</td>\n",
       "      <td>2</td>\n",
       "      <td>0.576280</td>\n",
       "    </tr>\n",
       "    <tr>\n",
       "      <th>2</th>\n",
       "      <td>mistralai/Mistral-7B-Instruct-v0.2</td>\n",
       "      <td>hellaswag</td>\n",
       "      <td>0.397929</td>\n",
       "      <td>0.004885</td>\n",
       "      <td>0.636029</td>\n",
       "      <td>0.004802</td>\n",
       "      <td>hellaswag</td>\n",
       "      <td>3</td>\n",
       "      <td>0.636029</td>\n",
       "    </tr>\n",
       "    <tr>\n",
       "      <th>3</th>\n",
       "      <td>mistralai/Mistral-7B-Instruct-v0.2</td>\n",
       "      <td>hellaswag</td>\n",
       "      <td>0.431488</td>\n",
       "      <td>0.004943</td>\n",
       "      <td>0.654949</td>\n",
       "      <td>0.004744</td>\n",
       "      <td>hellaswag</td>\n",
       "      <td>4</td>\n",
       "      <td>0.654949</td>\n",
       "    </tr>\n",
       "    <tr>\n",
       "      <th>4</th>\n",
       "      <td>mistralai/Mistral-7B-Instruct-v0.2</td>\n",
       "      <td>hellaswag</td>\n",
       "      <td>0.659331</td>\n",
       "      <td>0.004730</td>\n",
       "      <td>0.837383</td>\n",
       "      <td>0.003683</td>\n",
       "      <td>hellaswag</td>\n",
       "      <td>5</td>\n",
       "      <td>0.837383</td>\n",
       "    </tr>\n",
       "    <tr>\n",
       "      <th>5</th>\n",
       "      <td>mistralai/Mistral-7B-Instruct-v0.2</td>\n",
       "      <td>winogrande</td>\n",
       "      <td>0.550118</td>\n",
       "      <td>0.013982</td>\n",
       "      <td>NaN</td>\n",
       "      <td>NaN</td>\n",
       "      <td>winogrande</td>\n",
       "      <td>1</td>\n",
       "      <td>0.550118</td>\n",
       "    </tr>\n",
       "    <tr>\n",
       "      <th>6</th>\n",
       "      <td>mistralai/Mistral-7B-Instruct-v0.2</td>\n",
       "      <td>winogrande</td>\n",
       "      <td>0.640095</td>\n",
       "      <td>0.013490</td>\n",
       "      <td>NaN</td>\n",
       "      <td>NaN</td>\n",
       "      <td>winogrande</td>\n",
       "      <td>2</td>\n",
       "      <td>0.640095</td>\n",
       "    </tr>\n",
       "    <tr>\n",
       "      <th>7</th>\n",
       "      <td>mistralai/Mistral-7B-Instruct-v0.2</td>\n",
       "      <td>winogrande</td>\n",
       "      <td>0.697711</td>\n",
       "      <td>0.012907</td>\n",
       "      <td>NaN</td>\n",
       "      <td>NaN</td>\n",
       "      <td>winogrande</td>\n",
       "      <td>3</td>\n",
       "      <td>0.697711</td>\n",
       "    </tr>\n",
       "    <tr>\n",
       "      <th>8</th>\n",
       "      <td>mistralai/Mistral-7B-Instruct-v0.2</td>\n",
       "      <td>winogrande</td>\n",
       "      <td>0.708761</td>\n",
       "      <td>0.012769</td>\n",
       "      <td>NaN</td>\n",
       "      <td>NaN</td>\n",
       "      <td>winogrande</td>\n",
       "      <td>4</td>\n",
       "      <td>0.708761</td>\n",
       "    </tr>\n",
       "    <tr>\n",
       "      <th>9</th>\n",
       "      <td>mistralai/Mistral-7B-Instruct-v0.2</td>\n",
       "      <td>winogrande</td>\n",
       "      <td>0.734807</td>\n",
       "      <td>0.012407</td>\n",
       "      <td>NaN</td>\n",
       "      <td>NaN</td>\n",
       "      <td>winogrande</td>\n",
       "      <td>5</td>\n",
       "      <td>0.734807</td>\n",
       "    </tr>\n",
       "    <tr>\n",
       "      <th>10</th>\n",
       "      <td>mistralai/Mistral-7B-Instruct-v0.2</td>\n",
       "      <td>truthfulqa_mc1</td>\n",
       "      <td>0.244798</td>\n",
       "      <td>0.015052</td>\n",
       "      <td>NaN</td>\n",
       "      <td>NaN</td>\n",
       "      <td>truthfulqa_mc1</td>\n",
       "      <td>1</td>\n",
       "      <td>0.244798</td>\n",
       "    </tr>\n",
       "    <tr>\n",
       "      <th>11</th>\n",
       "      <td>mistralai/Mistral-7B-Instruct-v0.2</td>\n",
       "      <td>truthfulqa_mc1</td>\n",
       "      <td>0.307222</td>\n",
       "      <td>0.016150</td>\n",
       "      <td>NaN</td>\n",
       "      <td>NaN</td>\n",
       "      <td>truthfulqa_mc1</td>\n",
       "      <td>2</td>\n",
       "      <td>0.307222</td>\n",
       "    </tr>\n",
       "    <tr>\n",
       "      <th>12</th>\n",
       "      <td>mistralai/Mistral-7B-Instruct-v0.2</td>\n",
       "      <td>truthfulqa_mc1</td>\n",
       "      <td>0.323133</td>\n",
       "      <td>0.016372</td>\n",
       "      <td>NaN</td>\n",
       "      <td>NaN</td>\n",
       "      <td>truthfulqa_mc1</td>\n",
       "      <td>3</td>\n",
       "      <td>0.323133</td>\n",
       "    </tr>\n",
       "    <tr>\n",
       "      <th>13</th>\n",
       "      <td>mistralai/Mistral-7B-Instruct-v0.2</td>\n",
       "      <td>truthfulqa_mc1</td>\n",
       "      <td>0.307222</td>\n",
       "      <td>0.016150</td>\n",
       "      <td>NaN</td>\n",
       "      <td>NaN</td>\n",
       "      <td>truthfulqa_mc1</td>\n",
       "      <td>4</td>\n",
       "      <td>0.307222</td>\n",
       "    </tr>\n",
       "    <tr>\n",
       "      <th>14</th>\n",
       "      <td>mistralai/Mistral-7B-Instruct-v0.2</td>\n",
       "      <td>truthfulqa_mc1</td>\n",
       "      <td>0.523868</td>\n",
       "      <td>0.017484</td>\n",
       "      <td>NaN</td>\n",
       "      <td>NaN</td>\n",
       "      <td>truthfulqa_mc1</td>\n",
       "      <td>5</td>\n",
       "      <td>0.523868</td>\n",
       "    </tr>\n",
       "  </tbody>\n",
       "</table>\n",
       "</div>"
      ],
      "text/plain": [
       "                                 model       benchmark  acc,none  \\\n",
       "0   mistralai/Mistral-7B-Instruct-v0.2       hellaswag  0.327325   \n",
       "1   mistralai/Mistral-7B-Instruct-v0.2       hellaswag  0.383489   \n",
       "2   mistralai/Mistral-7B-Instruct-v0.2       hellaswag  0.397929   \n",
       "3   mistralai/Mistral-7B-Instruct-v0.2       hellaswag  0.431488   \n",
       "4   mistralai/Mistral-7B-Instruct-v0.2       hellaswag  0.659331   \n",
       "5   mistralai/Mistral-7B-Instruct-v0.2      winogrande  0.550118   \n",
       "6   mistralai/Mistral-7B-Instruct-v0.2      winogrande  0.640095   \n",
       "7   mistralai/Mistral-7B-Instruct-v0.2      winogrande  0.697711   \n",
       "8   mistralai/Mistral-7B-Instruct-v0.2      winogrande  0.708761   \n",
       "9   mistralai/Mistral-7B-Instruct-v0.2      winogrande  0.734807   \n",
       "10  mistralai/Mistral-7B-Instruct-v0.2  truthfulqa_mc1  0.244798   \n",
       "11  mistralai/Mistral-7B-Instruct-v0.2  truthfulqa_mc1  0.307222   \n",
       "12  mistralai/Mistral-7B-Instruct-v0.2  truthfulqa_mc1  0.323133   \n",
       "13  mistralai/Mistral-7B-Instruct-v0.2  truthfulqa_mc1  0.307222   \n",
       "14  mistralai/Mistral-7B-Instruct-v0.2  truthfulqa_mc1  0.523868   \n",
       "\n",
       "    acc_stderr,none  acc_norm,none  acc_norm_stderr,none           alias  \\\n",
       "0          0.004683       0.435371              0.004948       hellaswag   \n",
       "1          0.004852       0.576280              0.004931       hellaswag   \n",
       "2          0.004885       0.636029              0.004802       hellaswag   \n",
       "3          0.004943       0.654949              0.004744       hellaswag   \n",
       "4          0.004730       0.837383              0.003683       hellaswag   \n",
       "5          0.013982            NaN                   NaN      winogrande   \n",
       "6          0.013490            NaN                   NaN      winogrande   \n",
       "7          0.012907            NaN                   NaN      winogrande   \n",
       "8          0.012769            NaN                   NaN      winogrande   \n",
       "9          0.012407            NaN                   NaN      winogrande   \n",
       "10         0.015052            NaN                   NaN  truthfulqa_mc1   \n",
       "11         0.016150            NaN                   NaN  truthfulqa_mc1   \n",
       "12         0.016372            NaN                   NaN  truthfulqa_mc1   \n",
       "13         0.016150            NaN                   NaN  truthfulqa_mc1   \n",
       "14         0.017484            NaN                   NaN  truthfulqa_mc1   \n",
       "\n",
       "    max_token_len  accuracy  \n",
       "0               1  0.435371  \n",
       "1               2  0.576280  \n",
       "2               3  0.636029  \n",
       "3               4  0.654949  \n",
       "4               5  0.837383  \n",
       "5               1  0.550118  \n",
       "6               2  0.640095  \n",
       "7               3  0.697711  \n",
       "8               4  0.708761  \n",
       "9               5  0.734807  \n",
       "10              1  0.244798  \n",
       "11              2  0.307222  \n",
       "12              3  0.323133  \n",
       "13              4  0.307222  \n",
       "14              5  0.523868  "
      ]
     },
     "execution_count": 31,
     "metadata": {},
     "output_type": "execute_result"
    }
   ],
   "source": [
    "null_acc_norm_mask = results_df['acc_norm,none'].isnull()\n",
    "null_acc_norm_mask\n",
    "results_df['accuracy'] = results_df['acc,none']\n",
    "results_df.loc[~null_acc_norm_mask, 'accuracy'] = results_df[~null_acc_norm_mask]['acc_norm,none'].values\n",
    "\n",
    "null_max_token_len_mask = results_df['max_token_len'].isnull()\n",
    "null_max_token_len_mask\n",
    "results_df.loc[null_max_token_len_mask, 'max_token_len'] = 5\n",
    "results_df['max_token_len'] = results_df['max_token_len'].astype(int)\n",
    "\n",
    "results_df"
   ]
  },
  {
   "cell_type": "code",
   "execution_count": 47,
   "metadata": {},
   "outputs": [
    {
     "data": {
      "text/plain": [
       "<Figure size 640x480 with 0 Axes>"
      ]
     },
     "metadata": {},
     "output_type": "display_data"
    },
    {
     "data": {
      "image/png": "[encoded data removed]",
      "text/plain": [
       "<Figure size 656.375x500 with 1 Axes>"
      ]
     },
     "metadata": {},
     "output_type": "display_data"
    }
   ],
   "source": [
    "fig = plt.figure()\n",
    "sns.relplot(\n",
    "    data=results_df,\n",
    "    # col='p_rate',\n",
    "    y='accuracy',\n",
    "    hue='benchmark',\n",
    "    x='max_token_len',\n",
    "    # size=...,\n",
    "    # hue='iterative',\n",
    "    style='model',\n",
    "    kind='line',\n",
    "    markers=True\n",
    "    # row=...\n",
    "    # xlim=[-0.1, 1.0],\n",
    "    # ylim=[0.0, 1.1]\n",
    ")\n",
    "plt.xlim([0.5, 5.5])\n",
    "plt.xticks(range(1, 6), [1,2,3,4,'Original'])\n",
    "plt.ylim([0.0, 1.0])\n",
    "# plt.hlines(0.8366859191396137, 0, 1, colors='g', linestyles='dashed', label='base_model')\n",
    "plt.grid()\n",
    "# plt.legend(loc='center')\n",
    "plt.show()"
   ]
  },
  {
   "cell_type": "code",
   "execution_count": null,
   "metadata": {},
   "outputs": [],
   "source": []
  },
  {
   "cell_type": "code",
   "execution_count": null,
   "metadata": {},
   "outputs": [],
   "source": []
  },
  {
   "cell_type": "code",
   "execution_count": null,
   "metadata": {},
   "outputs": [],
   "source": []
  },
  {
   "cell_type": "code",
   "execution_count": null,
   "metadata": {},
   "outputs": [],
   "source": []
  },
  {
   "cell_type": "code",
   "execution_count": null,
   "metadata": {},
   "outputs": [],
   "source": []
  },
  {
   "cell_type": "code",
   "execution_count": null,
   "metadata": {},
   "outputs": [],
   "source": []
  }
 ],
 "metadata": {
  "kernelspec": {
   "display_name": "Python 3 (ipykernel)",
   "language": "python",
   "name": "python3"
  },
  "language_info": {
   "codemirror_mode": {
    "name": "ipython",
    "version": 3
   },
   "file_extension": ".py",
   "mimetype": "text/x-python",
   "name": "python",
   "nbconvert_exporter": "python",
   "pygments_lexer": "ipython3",
   "version": "3.12.2"
  }
 },
 "nbformat": 4,
 "nbformat_minor": 4
}
